{
 "cells": [
  {
   "cell_type": "markdown",
   "metadata": {},
   "source": [
    "# Inżynieria lingwistyczna\n",
    "Ten notebook jest oceniany półautomatycznie. Nie twórz ani nie usuwaj komórek - struktura notebooka musi zostać zachowana. Odpowiedź wypełnij tam gdzie jest na to wskazane miejsce - odpowiedzi w innych miejscach nie będą sprawdzane (nie są widoczne dla sprawdzającego w systemie).\n",
    "\n",
    "Make sure you fill in any place that says `YOUR CODE HERE` or \"YOUR ANSWER HERE\"."
   ]
  },
  {
   "cell_type": "markdown",
   "metadata": {},
   "source": [
    "---"
   ]
  },
  {
   "cell_type": "markdown",
   "metadata": {},
   "source": [
    "# Moduł 5: Statystyczne tłumaczenie maszynowe\n",
    "\n",
    "## Zadanie 1\n",
    "Zadanie polega na zaimplementowaniu algorytmu Expectation-Maximization w modelu IBM Model 1 do przypasowywania słów. Będzie to fragment modelu, który tłumaczyć będzie z hiszpańskiego na angielski. \n",
    "\n",
    "UWAGA: Specjalny token \"NULL\" pomijamy w implementacji.\n",
    "\n",
    "Dany jest mini-korpus równoległy angielsko-hiszpański\n",
    "- \"green house\" \"casa verde\"\n",
    "- \"the house\" \"la casa\"\n",
    "- \"the green house\" \"la casa verde\"\n"
   ]
  },
  {
   "cell_type": "code",
   "execution_count": 1,
   "metadata": {},
   "outputs": [],
   "source": [
    "import itertools\n",
    "from collections import Counter\n",
    "english = [[\"green\",\"house\"], [\"the\",\"house\"], [\"the\", \"green\", \"house\"]]\n",
    "spanish = [[\"casa\", \"verde\"], [\"la\", \"casa\"], [\"la\", \"casa\", \"verde\"]]"
   ]
  },
  {
   "cell_type": "markdown",
   "metadata": {},
   "source": [
    "W dalszych funkcjach przydatne może być wyznaczenie słownika czyli zbioru słów z korpusu dla danego języka."
   ]
  },
  {
   "cell_type": "code",
   "execution_count": 2,
   "metadata": {
    "deletable": false,
    "nbgrader": {
     "cell_type": "code",
     "checksum": "ab962d04ff327161dd545fd42ce9b2ee",
     "grade": false,
     "grade_id": "cell-91ce5ad3201d3840",
     "locked": false,
     "schema_version": 3,
     "solution": true,
     "task": false
    }
   },
   "outputs": [],
   "source": [
    "import numpy as np\n",
    "from functools import reduce\n",
    "def get_vocabulary(corpus):\n",
    "    \"\"\"\n",
    "    Funkcja zwracająca listę unikalnych słów z korpusu podanego w formacie zmiennej english i spanish\n",
    "    \"\"\"\n",
    "    # YOUR CODE HERE\n",
    "    return list(reduce(lambda x,y: set(x).union(y), corpus))"
   ]
  },
  {
   "cell_type": "code",
   "execution_count": 3,
   "metadata": {
    "deletable": false,
    "editable": false,
    "nbgrader": {
     "cell_type": "code",
     "checksum": "03f2fde3e2385f2037bcb146ba7914e5",
     "grade": true,
     "grade_id": "cell-69a37d074c36bafa",
     "locked": true,
     "points": 1,
     "schema_version": 3,
     "solution": false,
     "task": false
    }
   },
   "outputs": [],
   "source": [
    "from nose.tools import assert_set_equal\n",
    "assert_set_equal(set(get_vocabulary(english)), set([\"the\", \"green\", \"house\"]))"
   ]
  },
  {
   "cell_type": "markdown",
   "metadata": {},
   "source": [
    "Zainicjalizuj rozkład prawdopodobieństwa tłumaczenia słów rozkładem jednorodnym. Ponieważ zależy nam na prostocie implementacji (a nie efektywności) możemy to prawdopodobieństwo zaimplementować jako zwykły słownik, który będzie przyjmował na wejściu krotkę dwóch słów. Słownik nazwij `translation_prob` z kluczami (słowo_es, słowo_en)."
   ]
  },
  {
   "cell_type": "code",
   "execution_count": 4,
   "metadata": {
    "deletable": false,
    "nbgrader": {
     "cell_type": "code",
     "checksum": "c5f903d8e7d39b8ca60c841fe1ff55b3",
     "grade": false,
     "grade_id": "cell-d90e10211e9d2c82",
     "locked": false,
     "schema_version": 3,
     "solution": true,
     "task": false
    }
   },
   "outputs": [],
   "source": [
    "\n",
    "def initalize_translation_prob(corpus1, corpus2):\n",
    "    # YOUR CODE HERE\n",
    "    uniform = {}\n",
    "    for wTarget in get_vocabulary(corpus1):\n",
    "        for wSource in get_vocabulary(corpus2):\n",
    "            uniform[(wSource, wTarget)] = 1\n",
    "    total = sum(uniform.values(), 0.0)\n",
    "    for englishW in get_vocabulary(corpus1):\n",
    "        summ = 0.0\n",
    "        for spanishW in  get_vocabulary(corpus2):\n",
    "            summ += uniform[(spanishW, englishW)]\n",
    "        for spanishW in  get_vocabulary(corpus2):\n",
    "            uniform[(spanishW, englishW)] /= summ\n",
    "    return uniform\n",
    "translation_prob = initalize_translation_prob(english, spanish)"
   ]
  },
  {
   "cell_type": "markdown",
   "metadata": {},
   "source": [
    "Wypisz zaincjalizowany słownik, żeby upewnić się że wynik jest prawidłowy."
   ]
  },
  {
   "cell_type": "code",
   "execution_count": 5,
   "metadata": {},
   "outputs": [
    {
     "data": {
      "text/plain": [
       "{('verde', 'the'): 0.3333333333333333,\n",
       " ('casa', 'the'): 0.3333333333333333,\n",
       " ('la', 'the'): 0.3333333333333333,\n",
       " ('verde', 'green'): 0.3333333333333333,\n",
       " ('casa', 'green'): 0.3333333333333333,\n",
       " ('la', 'green'): 0.3333333333333333,\n",
       " ('verde', 'house'): 0.3333333333333333,\n",
       " ('casa', 'house'): 0.3333333333333333,\n",
       " ('la', 'house'): 0.3333333333333333}"
      ]
     },
     "execution_count": 5,
     "metadata": {},
     "output_type": "execute_result"
    }
   ],
   "source": [
    "translation_prob"
   ]
  },
  {
   "cell_type": "markdown",
   "metadata": {},
   "source": [
    "Zaimplementuj pierwszy krok algorytmu EM. Wyznacz wartości oczekiwane zmiennych przypisania słowa we wszystkich zdaniach w korpusie (oznaczane na wykładzie jako `a`)."
   ]
  },
  {
   "cell_type": "code",
   "execution_count": 6,
   "metadata": {
    "deletable": false,
    "nbgrader": {
     "cell_type": "code",
     "checksum": "b120bdbf77612fba126fed52c1626544",
     "grade": false,
     "grade_id": "cell-20e467cd48dc07f4",
     "locked": false,
     "schema_version": 3,
     "solution": true,
     "task": false
    }
   },
   "outputs": [],
   "source": [
    "def calculate_expectation(corpora1, corpora2, translation_prob):\n",
    "    \"\"\"\n",
    "    Procedura wykonująca krok \"E\" algorytmu EM\n",
    "    Wynikiem powinny być wartości oczekiwane dla zmiennej przypisań słów w zdaniach \n",
    "    (reprezentacja dowolna, nie weryfikowana przez sprawdzarkę)\n",
    "    \"\"\"\n",
    "    \n",
    "    sentencesExpectations = []\n",
    "    for sentenceSpanish, sentenceEnglish in zip(corpora2, corpora1):\n",
    "        a = np.zeros((len(sentenceSpanish), len(sentenceEnglish)))\n",
    "        for indS,wordS in enumerate(sentenceSpanish):\n",
    "            for indE,wordE in enumerate(sentenceEnglish):\n",
    "                a[indS,indE] = translation_prob[(wordS, wordE)]\n",
    "        a/= np.sum(a, axis=0)\n",
    "        sentencesExpectations.append(a)\n",
    "    return sentencesExpectations\n",
    "    \n",
    "assigment_expected_values = calculate_expectation(english, spanish, translation_prob)"
   ]
  },
  {
   "cell_type": "markdown",
   "metadata": {},
   "source": [
    "Wypisz wartości oczekiwane zmiennych przypisań, aby zobaczyć jak wyglądają. Powinny one również prezentować całkowity brak wiedzy o przypisaniach (rozkłady jednorodne)."
   ]
  },
  {
   "cell_type": "code",
   "execution_count": 7,
   "metadata": {},
   "outputs": [
    {
     "data": {
      "text/plain": [
       "[array([[0.5, 0.5],\n",
       "        [0.5, 0.5]]),\n",
       " array([[0.5, 0.5],\n",
       "        [0.5, 0.5]]),\n",
       " array([[0.33333333, 0.33333333, 0.33333333],\n",
       "        [0.33333333, 0.33333333, 0.33333333],\n",
       "        [0.33333333, 0.33333333, 0.33333333]])]"
      ]
     },
     "execution_count": 7,
     "metadata": {},
     "output_type": "execute_result"
    }
   ],
   "source": [
    "assigment_expected_values"
   ]
  },
  {
   "cell_type": "markdown",
   "metadata": {},
   "source": [
    "Zaimplementuj drugi krok algorytmu EM. Wyznacz nowe `translation_prob` na podstawie oczekiwanych wartości zmiennych przypisań."
   ]
  },
  {
   "cell_type": "code",
   "execution_count": 8,
   "metadata": {
    "deletable": false,
    "nbgrader": {
     "cell_type": "code",
     "checksum": "8f67c4062342e3a60cbbb1b28a783d37",
     "grade": false,
     "grade_id": "cell-5806efe4531f9f01",
     "locked": false,
     "schema_version": 3,
     "solution": true,
     "task": false
    }
   },
   "outputs": [],
   "source": [
    "def calculate_maximization(corpora1, corpora2, assigment_expected_values):\n",
    "    prob = Counter()\n",
    "    for sentenceExpectation, sentenceSpanish, sentenceEnglish in zip(assigment_expected_values, corpora2, corpora1):\n",
    "        \n",
    "        for indS,wordS in enumerate(sentenceSpanish):\n",
    "            \n",
    "            for indE, wordE in enumerate(sentenceEnglish):\n",
    "                \n",
    "                prob[(wordS, wordE)] += sentenceExpectation[indS, indE]\n",
    "    \n",
    "    for englishW in get_vocabulary(corpora1):\n",
    "        summ = 0.0\n",
    "        for spanishW in  get_vocabulary(corpora2):\n",
    "            summ += prob[(spanishW, englishW)]\n",
    "        for spanishW in  get_vocabulary(corpora2):\n",
    "            prob[(spanishW, englishW)] /= summ\n",
    "    return prob\n",
    "translation_prob = calculate_maximization(english, spanish, assigment_expected_values)"
   ]
  },
  {
   "cell_type": "code",
   "execution_count": 9,
   "metadata": {
    "deletable": false,
    "editable": false,
    "nbgrader": {
     "cell_type": "code",
     "checksum": "0d92bddac888f1ab9d18c6ac43260456",
     "grade": true,
     "grade_id": "cell-4d5309aeab35f6c7",
     "locked": true,
     "points": 8,
     "schema_version": 3,
     "solution": false,
     "task": false
    }
   },
   "outputs": [],
   "source": [
    "from nose.tools import assert_almost_equal\n",
    "assert_almost_equal(translation_prob[('casa', 'house')], 4/9.)\n",
    "assert_almost_equal(translation_prob[('la', 'house')], 5/18.)"
   ]
  },
  {
   "cell_type": "markdown",
   "metadata": {},
   "source": [
    "Wywołaj w pętli 10 kroków algorytmu EM i zaobserwuj jak zmieniają się prawdopodobieństwa dla tłumacznienia \"house\"."
   ]
  },
  {
   "cell_type": "code",
   "execution_count": 10,
   "metadata": {},
   "outputs": [
    {
     "name": "stdout",
     "output_type": "stream",
     "text": [
      "[(('casa', 'house'), 0.5584045584045584), (('verde', 'house'), 0.22079772079772075), (('la', 'house'), 0.22079772079772075)]\n",
      "---\n",
      "[(('casa', 'house'), 0.6638923177619095), (('verde', 'house'), 0.16805384111904523), (('la', 'house'), 0.16805384111904523)]\n",
      "---\n",
      "[(('casa', 'house'), 0.7532968646774506), (('verde', 'house'), 0.12335156766127475), (('la', 'house'), 0.12335156766127475)]\n",
      "---\n",
      "[(('casa', 'house'), 0.8239601969358897), (('verde', 'house'), 0.08801990153205519), (('la', 'house'), 0.08801990153205519)]\n",
      "---\n",
      "[(('casa', 'house'), 0.8769766282684491), (('verde', 'house'), 0.06151168586577549), (('la', 'house'), 0.06151168586577549)]\n",
      "---\n",
      "[(('casa', 'house'), 0.915296630096382), (('verde', 'house'), 0.042351684951809), (('la', 'house'), 0.042351684951809)]\n",
      "---\n",
      "[(('casa', 'house'), 0.9422824270785402), (('verde', 'house'), 0.02885878646072994), (('la', 'house'), 0.02885878646072994)]\n",
      "---\n",
      "[(('casa', 'house'), 0.9609498992371662), (('verde', 'house'), 0.019525050381416928), (('la', 'house'), 0.019525050381416928)]\n",
      "---\n",
      "[(('casa', 'house'), 0.9737073866187812), (('verde', 'house'), 0.013146306690609367), (('la', 'house'), 0.013146306690609367)]\n",
      "---\n",
      "[(('casa', 'house'), 0.9823548393048194), (('verde', 'house'), 0.008822580347590358), (('la', 'house'), 0.008822580347590358)]\n",
      "---\n"
     ]
    }
   ],
   "source": [
    "for i in range(10):\n",
    "    assigment_expected_values = calculate_expectation(english, spanish, translation_prob)\n",
    "    translation_prob = calculate_maximization(english, spanish, assigment_expected_values)\n",
    "    print([(i,j) for i,j in translation_prob.items() if i[1] == \"house\"])\n",
    "    print(\"---\")\n"
   ]
  },
  {
   "cell_type": "markdown",
   "metadata": {},
   "source": [
    "Wywołaj algorytm EM na poniższym korpusie."
   ]
  },
  {
   "cell_type": "code",
   "execution_count": 15,
   "metadata": {},
   "outputs": [],
   "source": [
    "## Zakładam, że tłumaczymy z EN -> PL we wszystkich przykładach i z ESP -> EN, ponieważ tak sugerują kolejne polecenia\n",
    "# -> mamy dodać NULL do PL, a to w zdaniach, na które tłumaczymy dodajemy NULL wg. wykładu \n",
    "# (rozumiem to tak , że język źródłowy emituje tokeny docelowego i NULL służy żeby można było nie wyemitować nic w docelowym ze źródłowego)\n",
    "\n",
    "english2 = [[\"the\",\"dog\"], [\"the\",\"house\"], [\"the\", \"green\", \"house\"]]\n",
    "polish = [[\"pies\"], [\"dom\"], [\"zielony\", \"dom\"]]"
   ]
  },
  {
   "cell_type": "code",
   "execution_count": 17,
   "metadata": {
    "deletable": false,
    "nbgrader": {
     "cell_type": "code",
     "checksum": "d7e69515106c187cdfce882609a23b6e",
     "grade": false,
     "grade_id": "cell-cff38f444b9c8d1a",
     "locked": false,
     "schema_version": 3,
     "solution": true,
     "task": false
    }
   },
   "outputs": [],
   "source": [
    "# YOUR CODE HERE\n",
    "translation_prob = initalize_translation_prob(polish, english2)\n",
    "for i in range(10):\n",
    "    assigment_expected_values = calculate_expectation(polish, english2, translation_prob)\n",
    "    translation_prob = calculate_maximization(polish, english2, assigment_expected_values)"
   ]
  },
  {
   "cell_type": "markdown",
   "metadata": {
    "deletable": false,
    "editable": false,
    "nbgrader": {
     "cell_type": "markdown",
     "checksum": "4755d83d4ecebe39866dccbb275fec90",
     "grade": false,
     "grade_id": "cell-9dfc99a37938134a",
     "locked": true,
     "points": 0,
     "schema_version": 3,
     "solution": false,
     "task": true
    }
   },
   "source": [
    "Sprawdź jak wyglądają prawdopodobieństwa tłumaczeń po 10 iteracjach."
   ]
  },
  {
   "cell_type": "code",
   "execution_count": 18,
   "metadata": {},
   "outputs": [
    {
     "data": {
      "text/plain": [
       "Counter({('the', 'pies'): 0.5,\n",
       "         ('dog', 'pies'): 0.5,\n",
       "         ('the', 'dom'): 0.49983723958333337,\n",
       "         ('house', 'dom'): 0.49983723958333337,\n",
       "         ('the', 'zielony'): 0.3333333333333333,\n",
       "         ('green', 'zielony'): 0.3333333333333333,\n",
       "         ('green', 'dom'): 0.00032552083333333337,\n",
       "         ('house', 'zielony'): 0.3333333333333333,\n",
       "         ('dog', 'dom'): 0.0,\n",
       "         ('house', 'pies'): 0.0,\n",
       "         ('green', 'pies'): 0.0,\n",
       "         ('dog', 'zielony'): 0.0})"
      ]
     },
     "execution_count": 18,
     "metadata": {},
     "output_type": "execute_result"
    }
   ],
   "source": [
    "translation_prob"
   ]
  },
  {
   "cell_type": "markdown",
   "metadata": {},
   "source": [
    "Sprawdź czy gdybyś dodał słówko `NULL` to algorytm nauczyłby się wiązać słówko `NULL` na `the`, które nie występuje w języku polskim?"
   ]
  },
  {
   "cell_type": "code",
   "execution_count": 14,
   "metadata": {
    "deletable": false,
    "nbgrader": {
     "cell_type": "code",
     "checksum": "916e8668bbff73c5896171de57b8e0f1",
     "grade": true,
     "grade_id": "cell-874a2c94ce1bd996",
     "locked": false,
     "points": 1,
     "schema_version": 3,
     "solution": true,
     "task": false
    }
   },
   "outputs": [],
   "source": [
    "# YOUR CODE HERE\n",
    "english2 = [[\"the\",\"dog\"], [\"the\",\"house\"], [\"the\", \"green\", \"house\"]]\n",
    "polish = [[\"NULL\", \"pies\"], [\"NULL\", \"dom\"], [\"NULL\",\"zielony\", \"dom\"]]\n",
    "\n",
    "translation_prob = initalize_translation_prob(polish, english2)\n",
    "for i in range(10):\n",
    "    assigment_expected_values = calculate_expectation(polish, english2, translation_prob)\n",
    "    translation_prob = calculate_maximization(polish, english2, assigment_expected_values)"
   ]
  },
  {
   "cell_type": "code",
   "execution_count": 32,
   "metadata": {},
   "outputs": [
    {
     "data": {
      "text/plain": [
       "Counter({('the', 'NULL'): 0.9884935162981091,\n",
       "         ('the', 'pies'): 0.5,\n",
       "         ('dog', 'NULL'): 3.5095620537396894e-05,\n",
       "         ('dog', 'pies'): 0.5,\n",
       "         ('the', 'dom'): 0.49983723958333337,\n",
       "         ('house', 'NULL'): 0.01146338484277804,\n",
       "         ('house', 'dom'): 0.49983723958333337,\n",
       "         ('the', 'zielony'): 0.3333333333333333,\n",
       "         ('green', 'NULL'): 8.003238575501878e-06,\n",
       "         ('green', 'zielony'): 0.3333333333333333,\n",
       "         ('green', 'dom'): 0.00032552083333333337,\n",
       "         ('house', 'zielony'): 0.3333333333333333,\n",
       "         ('dog', 'dom'): 0.0,\n",
       "         ('dog', 'zielony'): 0.0,\n",
       "         ('green', 'pies'): 0.0,\n",
       "         ('house', 'pies'): 0.0})"
      ]
     },
     "execution_count": 32,
     "metadata": {},
     "output_type": "execute_result"
    }
   ],
   "source": [
    "translation_prob"
   ]
  },
  {
   "cell_type": "markdown",
   "metadata": {},
   "source": [
    "Jeśli wywołałbyś EM dla pierwszego korpusu równoległego (zmienne `english` i `spanish`) i dołączył tokeny `NULL` to EM tłumaczy NULL jako \"casa\" i \"house\" jako \"casa\" z takimi samymi prawdopodobieństwami. Dlaczego?"
   ]
  },
  {
   "cell_type": "markdown",
   "metadata": {
    "deletable": false,
    "nbgrader": {
     "cell_type": "markdown",
     "checksum": "688634a67e83abb3398e068a602702b7",
     "grade": true,
     "grade_id": "cell-0982ba49d3a2f657",
     "locked": false,
     "points": 1,
     "schema_version": 3,
     "solution": true,
     "task": false
    }
   },
   "source": [
    "Dzieje się tak, ponieważ \"casa\" i jego poprawne tłumaczenie \"house\" występuje w każdym zdaniu w korpusie. \"NULL\" wstawiamy zawsze w zdaniu (na początku) w języku, na który tłumaczymy. Model opiera się na zliczaniu współwystępowania w zdaniach równoległych, więc model nie potrafi rozróżnić wpływu \"casa\" na \"NULL\"  i \"house\". Widać to w przykładzie poniżej. \n",
    "\n",
    "Wystarczyłaby jedna para zdań więcej, która naturalnie posiadałoby \"NULL\" w języku angielskim, a nie posiadała \"casa\" (a co za tym idzie również tłumaczenia \"house\") w języku źródłowym. Dzięki temu model mógłby dostrzec fakt, że brak obecności \"casa\" wpływa na brak \"house\" w tłumaczeniu, a nie na brak \"NULL\". Widać to na drugim przykładzie niżej.\n",
    "\n",
    "Problem może być większy dla słów, które można przetłumaczyć na kilka różnych wyrazów, wtedy \"NULL\" łatwiej przejmie większość prawdopodobieństwa! W praktyce korpusy równoległe prawdopodobnie nie posiadają w prawie każdym zdaniu tego samego słowa, więc ten problem raczej nie ma krytycznego znaczenia. "
   ]
  },
  {
   "cell_type": "code",
   "execution_count": 37,
   "metadata": {},
   "outputs": [],
   "source": [
    "english = [[\"NULL\",\"green\",\"house\"], [\"NULL\",\"the\",\"house\"], [\"NULL\",\"the\", \"green\", \"house\"]]\n",
    "spanish = [[\"casa\", \"verde\"], [\"la\", \"casa\"], [\"la\", \"casa\", \"verde\"]]\n",
    "\n",
    "translation_prob = initalize_translation_prob(english, spanish)\n",
    "for i in range(10):\n",
    "    assigment_expected_values = calculate_expectation(english, spanish, translation_prob)\n",
    "    translation_prob = calculate_maximization(english, spanish, assigment_expected_values)"
   ]
  },
  {
   "cell_type": "code",
   "execution_count": 38,
   "metadata": {},
   "outputs": [
    {
     "data": {
      "text/plain": [
       "Counter({('casa', 'NULL'): 0.9737073866187812,\n",
       "         ('casa', 'green'): 0.49983723958333337,\n",
       "         ('casa', 'house'): 0.9737073866187812,\n",
       "         ('verde', 'NULL'): 0.013146306690609386,\n",
       "         ('verde', 'green'): 0.49983723958333337,\n",
       "         ('verde', 'house'): 0.013146306690609386,\n",
       "         ('la', 'NULL'): 0.013146306690609386,\n",
       "         ('la', 'the'): 0.49983723958333337,\n",
       "         ('la', 'house'): 0.013146306690609386,\n",
       "         ('casa', 'the'): 0.49983723958333337,\n",
       "         ('la', 'green'): 0.00032552083333333337,\n",
       "         ('verde', 'the'): 0.00032552083333333337})"
      ]
     },
     "execution_count": 38,
     "metadata": {},
     "output_type": "execute_result"
    }
   ],
   "source": [
    "translation_prob"
   ]
  },
  {
   "cell_type": "code",
   "execution_count": 35,
   "metadata": {},
   "outputs": [],
   "source": [
    "english = [[\"NULL\",\"green\",\"house\"], [\"NULL\",\"the\",\"house\"], [\"NULL\",\"the\", \"green\", \"house\"], [\"NULL\", \"green\"]]\n",
    "spanish = [[\"casa\", \"verde\"], [\"la\", \"casa\"], [\"la\", \"casa\", \"verde\"], [\"verde\"]]\n",
    "\n",
    "translation_prob = initalize_translation_prob(english, spanish)\n",
    "for i in range(10):\n",
    "    assigment_expected_values = calculate_expectation(english, spanish, translation_prob)\n",
    "    translation_prob = calculate_maximization(english, spanish, assigment_expected_values)"
   ]
  },
  {
   "cell_type": "code",
   "execution_count": 36,
   "metadata": {},
   "outputs": [
    {
     "data": {
      "text/plain": [
       "Counter({('casa', 'NULL'): 0.4722873474087891,\n",
       "         ('casa', 'green'): 0.007898147029388158,\n",
       "         ('casa', 'house'): 0.9737073866187812,\n",
       "         ('verde', 'NULL'): 0.5091188186400821,\n",
       "         ('verde', 'green'): 0.9920962079413423,\n",
       "         ('verde', 'house'): 0.013146306690609386,\n",
       "         ('la', 'NULL'): 0.01859383395112877,\n",
       "         ('la', 'the'): 0.49983723958333337,\n",
       "         ('la', 'house'): 0.013146306690609386,\n",
       "         ('casa', 'the'): 0.49983723958333337,\n",
       "         ('la', 'green'): 5.645029269476762e-06,\n",
       "         ('verde', 'the'): 0.00032552083333333337})"
      ]
     },
     "execution_count": 36,
     "metadata": {},
     "output_type": "execute_result"
    }
   ],
   "source": [
    "translation_prob"
   ]
  },
  {
   "cell_type": "code",
   "execution_count": null,
   "metadata": {},
   "outputs": [],
   "source": []
  }
 ],
 "metadata": {
  "kernelspec": {
   "display_name": "Python 3",
   "language": "python",
   "name": "python3"
  },
  "language_info": {
   "codemirror_mode": {
    "name": "ipython",
    "version": 3
   },
   "file_extension": ".py",
   "mimetype": "text/x-python",
   "name": "python",
   "nbconvert_exporter": "python",
   "pygments_lexer": "ipython3",
   "version": "3.7.6"
  }
 },
 "nbformat": 4,
 "nbformat_minor": 2
}
